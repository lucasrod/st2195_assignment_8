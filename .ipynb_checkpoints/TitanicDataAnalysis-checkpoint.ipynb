{
 "cells": [
  {
   "cell_type": "markdown",
   "id": "b4b1de9d-0c3e-4bb4-be55-0709711a3f62",
   "metadata": {
    "tags": []
   },
   "source": [
    "## Load necessary libraries"
   ]
  },
  {
   "cell_type": "code",
   "execution_count": null,
   "id": "1f5adc6f-e455-4662-8876-c4edf695ea0b",
   "metadata": {
    "tags": []
   },
   "outputs": [],
   "source": [
    "import pandas as pd\n",
    "import seaborn as sns\n",
    "import matplotlib.pyplot as plt\n",
    "\n",
    "# Set the style of the visualizations\n",
    "sns.set_style(\"whitegrid\")"
   ]
  },
  {
   "cell_type": "markdown",
   "id": "0d99e736-6862-4191-98aa-6f8244d195b2",
   "metadata": {},
   "source": [
    "## Read the dataset"
   ]
  },
  {
   "cell_type": "code",
   "execution_count": null,
   "id": "de72296b-52a1-451c-8b35-9729f7f032be",
   "metadata": {
    "tags": []
   },
   "outputs": [],
   "source": [
    "df = pd.read_csv(\"data/titanic.csv\")\n",
    "\n",
    "# Convert columns to appropriate data types\n",
    "df['Sex'] = df['Sex'].map({'female': 'Female', 'male': 'Male'}).astype('category')\n",
    "df['Survived'] = df['Survived'].map({0: 'No', 1: 'Yes'}).astype('category')\n",
    "df['Pclass'] = df['Pclass'].map({1: 'First Class', 2: 'Second Class', 3: 'Third Class'}).astype('category')"
   ]
  },
  {
   "cell_type": "markdown",
   "id": "2bf7d48e-9eb2-42fa-89e1-808a1b466e55",
   "metadata": {},
   "source": [
    "## Question 1: Bar charts to describe the gender, ticket class, and survival of the passengers\n",
    "\n",
    "### Bar chart for gender"
   ]
  },
  {
   "cell_type": "code",
   "execution_count": null,
   "id": "2865de72-bc03-4e4d-b838-7e0c28a51bf9",
   "metadata": {
    "tags": []
   },
   "outputs": [],
   "source": [
    "plt.figure(figsize=(8, 6))\n",
    "sns.countplot(x='Sex', data=df)\n",
    "plt.title('Gender')\n",
    "plt.xlabel('Gender')\n",
    "plt.ylabel('Count')\n",
    "plt.show()"
   ]
  },
  {
   "cell_type": "markdown",
   "id": "15127235-fd99-48eb-9572-7a35128304de",
   "metadata": {},
   "source": [
    "### Bar chart for ticket class"
   ]
  },
  {
   "cell_type": "code",
   "execution_count": null,
   "id": "f24530ca-fb97-43e7-aad8-6edc85d53921",
   "metadata": {
    "tags": []
   },
   "outputs": [],
   "source": [
    "plt.figure(figsize=(8, 6))\n",
    "sns.countplot(x='Pclass', data=df)\n",
    "plt.title('Ticket Class')\n",
    "plt.xlabel('Ticket Class')\n",
    "plt.ylabel('Count')\n",
    "plt.show()"
   ]
  },
  {
   "cell_type": "markdown",
   "id": "b9e8c0c1-b28f-4754-b90b-b2433833ec92",
   "metadata": {},
   "source": [
    "### Bar chart for survival status\n"
   ]
  },
  {
   "cell_type": "code",
   "execution_count": null,
   "id": "d0604b54-f8f2-49c3-b561-ec38e350cbb3",
   "metadata": {
    "tags": []
   },
   "outputs": [],
   "source": [
    "plt.figure(figsize=(8, 6))\n",
    "sns.countplot(x='Survived', data=df)\n",
    "plt.title('Survival Rate')\n",
    "plt.xlabel('Survival Status')\n",
    "plt.ylabel('Count')\n",
    "plt.show()"
   ]
  },
  {
   "cell_type": "markdown",
   "id": "567a14fa-3f4d-46f6-8839-948c21bfa8eb",
   "metadata": {},
   "source": [
    "## Question 2: Passengers' age analysis by ticket class and survival status\n",
    "\n",
    "### Histogram for passengers' age"
   ]
  },
  {
   "cell_type": "code",
   "execution_count": null,
   "id": "431ee60f-ce70-42eb-bba7-85bb83a8fa26",
   "metadata": {
    "tags": []
   },
   "outputs": [],
   "source": [
    "plt.figure(figsize=(10, 6))\n",
    "sns.histplot(df['Age'], bins=16, kde=True)\n",
    "plt.title('Age Distribution')\n",
    "plt.xlabel('Age')\n",
    "plt.ylabel('Count')\n",
    "plt.show()"
   ]
  },
  {
   "cell_type": "code",
   "execution_count": null,
   "id": "059aeeec-e91b-48f0-85a0-d2b6c38a7d36",
   "metadata": {
    "tags": []
   },
   "outputs": [],
   "source": [
    "# Summarizing the Age column\n",
    "age_summary = df['Age'].describe()\n",
    "\n",
    "# Converting the summary to a DataFrame\n",
    "age_summary_df = age_summary.reset_index()\n",
    "\n",
    "# Renaming the columns\n",
    "age_summary_df.columns = ['Statistic', 'Value']\n",
    "\n",
    "# Printing the summary as a table\n",
    "age_summary_df"
   ]
  },
  {
   "cell_type": "markdown",
   "id": "33b106de-5389-45db-943a-d0c7550adb7b",
   "metadata": {},
   "source": [
    "### Boxplot for age per Ticket Class"
   ]
  },
  {
   "cell_type": "code",
   "execution_count": null,
   "id": "092ee33e-86db-4397-8c89-1fa7cdd2d756",
   "metadata": {
    "tags": []
   },
   "outputs": [],
   "source": [
    "plt.figure(figsize=(10, 8))\n",
    "sns.boxplot(x='Pclass', y='Age', data=df)\n",
    "plt.title('Age by Ticket Class')\n",
    "plt.xlabel('Ticket Class')\n",
    "plt.ylabel('Age')\n",
    "plt.show()"
   ]
  },
  {
   "cell_type": "code",
   "execution_count": null,
   "id": "e36685b7-4cd6-4771-b951-a7a8a93a9e31",
   "metadata": {
    "tags": []
   },
   "outputs": [],
   "source": [
    "# Grouping by ticket class and summarizing age, including the number of NAs\n",
    "age_ticket_class_summary = df.groupby('Pclass')['Age'].describe()\n",
    "age_ticket_class_summary['Non_NAs'] = df.groupby('Pclass')['Age'].count()\n",
    "age_ticket_class_summary['NAs'] = df.groupby('Pclass')['Age'].apply(lambda x: x.isnull().sum())\n",
    "\n",
    "# Printing the summary as a table\n",
    "age_ticket_class_summary"
   ]
  },
  {
   "cell_type": "markdown",
   "id": "072dca29-8feb-43bd-a5fc-5f543a9c667d",
   "metadata": {
    "tags": []
   },
   "source": [
    "### Boxplot for age per Survival status"
   ]
  },
  {
   "cell_type": "code",
   "execution_count": null,
   "id": "ecf13317-cc25-418d-a625-7102381dd476",
   "metadata": {
    "tags": []
   },
   "outputs": [],
   "source": [
    "plt.figure(figsize=(10, 8))\n",
    "sns.boxplot(x='Survived', y='Age', data=df)\n",
    "plt.title('Age by Survival Status')\n",
    "plt.xlabel('Survival Status')\n",
    "plt.ylabel('Age')\n",
    "plt.show()"
   ]
  },
  {
   "cell_type": "code",
   "execution_count": null,
   "id": "e72eaa37-d7e9-4a42-9b89-9460dc45382b",
   "metadata": {
    "tags": []
   },
   "outputs": [],
   "source": [
    "# Grouping by survival status and summarizing age\n",
    "age_survival_summary = df.groupby('Survived')['Age'].describe()\n",
    "age_survival_summary['Non_NAs'] = df.groupby('Survived')['Age'].count()\n",
    "age_survival_summary['NAs'] = df.groupby('Survived')['Age'].apply(lambda x: x.isnull().sum())\n",
    "\n",
    "# Printing the summary as a table\n",
    "age_survival_summary"
   ]
  },
  {
   "cell_type": "markdown",
   "id": "a36fed3f-443e-4620-958f-daecd9e9bb29",
   "metadata": {},
   "source": [
    "## Question 3: Travel fares and free passengers\n",
    "\n",
    "### Histogram for Travel Fare"
   ]
  },
  {
   "cell_type": "code",
   "execution_count": null,
   "id": "83b381dd-8ba8-481e-b288-545daffd9438",
   "metadata": {
    "tags": []
   },
   "outputs": [],
   "source": [
    "plt.figure(figsize=(10, 6))\n",
    "sns.histplot(df['Fare'].dropna(), bins=50, kde=True)\n",
    "plt.title('Travel Fares')\n",
    "plt.xlabel('Fare')\n",
    "plt.ylabel('Count')\n",
    "plt.show()"
   ]
  },
  {
   "cell_type": "code",
   "execution_count": null,
   "id": "aeeb284d-0f39-43a1-a63e-446a413717f7",
   "metadata": {
    "tags": []
   },
   "outputs": [],
   "source": [
    "# Summarizing the Fare column\n",
    "fare_summary = df['Fare'].describe()\n",
    "\n",
    "# Converting the summary to a DataFrame\n",
    "fare_summary_df = fare_summary.reset_index()\n",
    "\n",
    "# Renaming the columns\n",
    "fare_summary_df.columns = ['Statistic', 'Value']\n",
    "\n",
    "# Printing the summary as a table\n",
    "fare_summary_df"
   ]
  },
  {
   "cell_type": "markdown",
   "id": "fb67424a-b8fd-4caa-bb22-b5e1ebf79ee0",
   "metadata": {},
   "source": [
    "### Table with passenger fare payment status"
   ]
  },
  {
   "cell_type": "code",
   "execution_count": null,
   "id": "b0e66a79-7160-4d03-9a66-8b071d892e65",
   "metadata": {
    "tags": []
   },
   "outputs": [],
   "source": [
    "# Creating a column for payment status\n",
    "df['Payment_Status'] = df['Fare'].apply(lambda x: 'Did Not Pay' if x == 0 else 'Did Pay')\n",
    "\n",
    "# Summarizing the payment status\n",
    "payment_summary = df['Payment_Status'].value_counts().reset_index()\n",
    "payment_summary.columns = ['Payment_Status', 'Count']\n",
    "\n",
    "# Printing the summary as a table\n",
    "payment_summary"
   ]
  },
  {
   "cell_type": "markdown",
   "id": "f8d55404-be12-4a17-b2e8-efefeae39a2e",
   "metadata": {},
   "source": [
    "## Question 4: Different visualizations of family size per ticket class"
   ]
  },
  {
   "cell_type": "code",
   "execution_count": null,
   "id": "75d0c82c-d524-4604-935d-a774e82d6ff1",
   "metadata": {
    "tags": []
   },
   "outputs": [],
   "source": [
    "# FamilySize is the sum of siblings/spouses (SibSp), parents/children (Parch), plus one for the passenger themselves\n",
    "df['FamilySize'] = df['SibSp'] + df['Parch'] + 1\n",
    "\n",
    "# Summarizing each column\n",
    "sibsp_summary = df['SibSp'].describe()\n",
    "parch_summary = df['Parch'].describe()\n",
    "familysize_summary = df['FamilySize'].describe()\n",
    "\n",
    "# Combining the summaries into a DataFrame\n",
    "combined_summary_df = pd.DataFrame({\n",
    "    'Siblings/Spouses': sibsp_summary,\n",
    "    'Parents/Children': parch_summary,\n",
    "    'Family Size': familysize_summary\n",
    "})\n",
    "\n",
    "# Transposing the DataFrame\n",
    "combined_summary_df = combined_summary_df.transpose()\n",
    "\n",
    "# Printing the combined summary as a table\n",
    "combined_summary_df"
   ]
  },
  {
   "cell_type": "code",
   "execution_count": null,
   "id": "76beaefc-8e84-488b-8993-5a4d69882fb9",
   "metadata": {
    "tags": []
   },
   "outputs": [],
   "source": [
    "# Grouping by ticket class and describing family size\n",
    "familysize_by_pclass_summary = df.groupby('Pclass')['FamilySize'].describe()\n",
    "\n",
    "# Printing the summary as a table\n",
    "familysize_by_pclass_summary"
   ]
  },
  {
   "cell_type": "markdown",
   "id": "fe43edf6-d6a7-451f-b8ee-d49e42dbf865",
   "metadata": {},
   "source": [
    "## Vertical boxplot"
   ]
  },
  {
   "cell_type": "code",
   "execution_count": null,
   "id": "91a671cb-6f24-4677-93f2-43dad880d780",
   "metadata": {
    "tags": []
   },
   "outputs": [],
   "source": [
    "plt.figure(figsize=(10, 8))\n",
    "sns.boxplot(x='Pclass', y='FamilySize', data=df)\n",
    "plt.title('Family Size by Ticket Class')\n",
    "plt.xlabel('Ticket Class')\n",
    "plt.ylabel('Family Size')\n",
    "plt.show()"
   ]
  },
  {
   "cell_type": "markdown",
   "id": "6bebd46e-00b5-4094-ad6a-fecda28e7344",
   "metadata": {},
   "source": [
    "## Horizontal boxplot"
   ]
  },
  {
   "cell_type": "code",
   "execution_count": null,
   "id": "e861a313-95a0-4bdc-a1fe-c0303237921e",
   "metadata": {
    "tags": []
   },
   "outputs": [],
   "source": [
    "plt.figure(figsize=(10, 6))\n",
    "sns.boxplot(y='Pclass', x='FamilySize', data=df, orient='h')\n",
    "plt.title('Family Size by Ticket Class')\n",
    "plt.ylabel('Ticket Class')\n",
    "plt.xlabel('Family Size')\n",
    "plt.show()"
   ]
  },
  {
   "cell_type": "markdown",
   "id": "c5564ebb-a194-4af2-944c-27ac218fd709",
   "metadata": {},
   "source": [
    "## Vertical histogram"
   ]
  },
  {
   "cell_type": "code",
   "execution_count": null,
   "id": "72aff346-d4d6-4650-8f58-9784c9d22dbc",
   "metadata": {
    "tags": []
   },
   "outputs": [],
   "source": [
    "g = sns.FacetGrid(df, col=\"Pclass\", height=3, aspect=1)\n",
    "g.map(sns.histplot, \"FamilySize\", bins=range(1, 12), kde=False)\n",
    "g.set_titles(\"Family size in {col_name}\")\n",
    "g.set_axis_labels(\"Family size\", \"Count\")\n",
    "plt.show()"
   ]
  },
  {
   "cell_type": "markdown",
   "id": "6cbbd36d-449f-4d5b-b992-07d115dd98dc",
   "metadata": {},
   "source": [
    "## Horizontal histogram"
   ]
  },
  {
   "cell_type": "code",
   "execution_count": null,
   "id": "00f6dea8-a99b-4e4e-aae7-d43b5c9ea9b6",
   "metadata": {
    "tags": []
   },
   "outputs": [],
   "source": [
    "# In Python, horizontal histograms are not as straightforward as vertical ones.\n",
    "# Instead, we use a barplot to achieve a similar effect.\n",
    "for pclass in df['Pclass'].unique():\n",
    "    subset = df[df['Pclass'] == pclass]\n",
    "    plt.figure(figsize=(10, 6))\n",
    "    sns.countplot(y='FamilySize', data=subset, order=range(1, subset['FamilySize'].max() + 1), color='steelblue')\n",
    "    plt.title(f'Family Size by Ticket Class: {pclass}')\n",
    "    plt.ylabel('Family Size')\n",
    "    plt.xlabel('Count')\n",
    "    plt.show()"
   ]
  },
  {
   "cell_type": "markdown",
   "id": "aa6fd15d-da80-46a2-bd33-0c8efabcef17",
   "metadata": {},
   "source": [
    "## Vertical violin plot"
   ]
  },
  {
   "cell_type": "code",
   "execution_count": null,
   "id": "b919b54f-095c-47e2-9be0-348a53ff221c",
   "metadata": {
    "tags": []
   },
   "outputs": [],
   "source": [
    "plt.figure(figsize=(10, 6))\n",
    "sns.violinplot(x='Pclass', y='FamilySize', data=df)\n",
    "plt.title('Family Size by Ticket Class')\n",
    "plt.xlabel('Ticket Class')\n",
    "plt.ylabel('Family Size')\n",
    "plt.show()"
   ]
  },
  {
   "cell_type": "markdown",
   "id": "e639fdfd-9f38-403e-8faf-b65762cc1c86",
   "metadata": {
    "tags": []
   },
   "source": [
    "## Horizontal violin plot"
   ]
  },
  {
   "cell_type": "code",
   "execution_count": null,
   "id": "4a9e161a-0b7e-40c0-8e93-1a60081351bb",
   "metadata": {
    "tags": []
   },
   "outputs": [],
   "source": [
    "plt.figure(figsize=(10, 6))\n",
    "sns.violinplot(y='Pclass', x='FamilySize', data=df, orient='h')\n",
    "plt.title('Family Size by Ticket Class')\n",
    "plt.ylabel('Ticket Class')\n",
    "plt.xlabel('Family Size')\n",
    "plt.show()"
   ]
  },
  {
   "cell_type": "markdown",
   "id": "9ca190a8-1aa3-492a-8c48-665aa1c04a1b",
   "metadata": {},
   "source": [
    "## Question 5: Stacked bar charts to show survival rate by age and gender\n",
    "\n",
    "### Stacked bar chart for survival by gender"
   ]
  },
  {
   "cell_type": "code",
   "execution_count": null,
   "id": "08d0362c-7d89-4eba-b0ec-c00776b25cea",
   "metadata": {
    "tags": []
   },
   "outputs": [],
   "source": [
    "survival_gender = pd.crosstab(df['Sex'], df['Survived'])\n",
    "\n",
    "survival_gender.plot(kind='bar', stacked=True, figsize=(8, 6))\n",
    "plt.title('Survival Count by Gender')\n",
    "plt.xlabel('Gender')\n",
    "plt.xticks(rotation=0)\n",
    "plt.ylabel('Count')\n",
    "plt.legend(title='Survived')\n",
    "plt.show()"
   ]
  },
  {
   "cell_type": "code",
   "execution_count": null,
   "id": "d3ae579a-c3f6-4c23-9e58-6588219265c2",
   "metadata": {
    "tags": []
   },
   "outputs": [],
   "source": [
    "survival_gender"
   ]
  },
  {
   "cell_type": "markdown",
   "id": "dfac9d2f-3d64-4ab2-b8fc-f8125ad287ae",
   "metadata": {
    "tags": []
   },
   "source": [
    "### Stacked bar chart for survival by Ticket Class"
   ]
  },
  {
   "cell_type": "code",
   "execution_count": null,
   "id": "10ed43cd-cde0-4f61-850c-b2299a297a2f",
   "metadata": {
    "tags": []
   },
   "outputs": [],
   "source": [
    "survival_class = pd.crosstab(df['Pclass'], df['Survived'])\n",
    "\n",
    "survival_class.plot(kind='bar', stacked=True, figsize=(8, 6))\n",
    "plt.title('Survival Count by Ticket Class')\n",
    "plt.xlabel('Ticket Class')\n",
    "plt.xticks(rotation=0)\n",
    "plt.ylabel('Count')\n",
    "plt.legend(title='Survived')\n",
    "plt.show()"
   ]
  },
  {
   "cell_type": "code",
   "execution_count": null,
   "id": "0be9b1c3-dba8-49da-a879-3d1676a2e44c",
   "metadata": {
    "tags": []
   },
   "outputs": [],
   "source": [
    "# Printing the table\n",
    "survival_class"
   ]
  },
  {
   "cell_type": "markdown",
   "id": "e2f59ad1-c81e-4f6c-bf8b-737cf90f0445",
   "metadata": {},
   "source": [
    "## Question 6: Violin plot to show survival rate by age and gender"
   ]
  },
  {
   "cell_type": "markdown",
   "id": "e74d8eae-cc7f-4e60-bba7-431048418830",
   "metadata": {
    "tags": []
   },
   "source": [
    "### Violin plot for age distribution by survival and gender"
   ]
  },
  {
   "cell_type": "code",
   "execution_count": null,
   "id": "029486f2-f1d5-43c9-8f01-8c04c2c4be2f",
   "metadata": {
    "tags": []
   },
   "outputs": [],
   "source": [
    "plt.figure(figsize=(10, 6))\n",
    "sns.violinplot(x='Sex', y='Age', hue='Survived', data=df, split=True)\n",
    "plt.title('Age Distribution by Survival and Gender')\n",
    "plt.xlabel('Gender')\n",
    "plt.ylabel('Age')\n",
    "plt.show()"
   ]
  },
  {
   "cell_type": "markdown",
   "id": "7aedc582-f317-47d0-b3fe-8101ba291ff9",
   "metadata": {
    "tags": []
   },
   "source": [
    "### Summary table of age by gender and survival status"
   ]
  },
  {
   "cell_type": "code",
   "execution_count": null,
   "id": "c4bdbd7b-a1b5-45f9-902d-7723baec712b",
   "metadata": {
    "tags": []
   },
   "outputs": [],
   "source": [
    "# Group by gender and survival, then summarize the age distribution for each group\n",
    "age_summary_by_group = df.groupby(['Sex', 'Survived'])['Age'].describe()\n",
    "\n",
    "# Printing the summary table\n",
    "age_summary_by_group"
   ]
  },
  {
   "cell_type": "markdown",
   "id": "bb6f0a95-293e-4d0d-b866-422f47769a03",
   "metadata": {},
   "source": [
    "## Question 7: Violin plot to show survival rate by age and ticket class"
   ]
  },
  {
   "cell_type": "code",
   "execution_count": null,
   "id": "1a201993-8350-486d-b649-23cb9ae685e6",
   "metadata": {
    "tags": []
   },
   "outputs": [],
   "source": [
    "plt.figure(figsize=(10, 6))\n",
    "sns.violinplot(x='Pclass', y='Age', hue='Survived', data=df, split=True)\n",
    "plt.title('Age Distribution by Survival and Ticket Class')\n",
    "plt.xlabel('Ticket Class')\n",
    "plt.ylabel('Age')\n",
    "plt.show()"
   ]
  },
  {
   "cell_type": "markdown",
   "id": "80f737f8-189a-4871-a10a-502fceac51a1",
   "metadata": {},
   "source": [
    "### Summary table of age by ticket class and survival status"
   ]
  },
  {
   "cell_type": "code",
   "execution_count": null,
   "id": "531ab85a-07aa-4d98-8b7e-4ef4605124b3",
   "metadata": {
    "tags": []
   },
   "outputs": [],
   "source": [
    "# Group by ticket class and survival, then summarize the age distribution for each group\n",
    "age_summary_by_class = df.groupby(['Pclass', 'Survived'])['Age'].describe()\n",
    "\n",
    "# Printing the summary table\n",
    "age_summary_by_class"
   ]
  },
  {
   "cell_type": "code",
   "execution_count": null,
   "id": "04e9d6e5-babc-42b2-8fc7-8b6f625bd046",
   "metadata": {},
   "outputs": [],
   "source": []
  }
 ],
 "metadata": {
  "kernelspec": {
   "display_name": "Python 3 (ipykernel)",
   "language": "python",
   "name": "python3"
  },
  "language_info": {
   "codemirror_mode": {
    "name": "ipython",
    "version": 3
   },
   "file_extension": ".py",
   "mimetype": "text/x-python",
   "name": "python",
   "nbconvert_exporter": "python",
   "pygments_lexer": "ipython3",
   "version": "3.11.0"
  }
 },
 "nbformat": 4,
 "nbformat_minor": 5
}
